{
 "cells": [
  {
   "cell_type": "code",
   "execution_count": 2,
   "id": "cc36fbe7",
   "metadata": {},
   "outputs": [],
   "source": [
    "import pandas as pd\n",
    "import numpy as np\n",
    "import pickle\n",
    "import matplotlib.pyplot as plt\n",
    "import geopandas as gpd\n",
    "\n",
    "\n",
    "%matplotlib inline"
   ]
  },
  {
   "cell_type": "code",
   "execution_count": 3,
   "id": "dfc9d2e7",
   "metadata": {},
   "outputs": [],
   "source": [
    "df = pd.read_csv(r'C:\\Users\\PAVITHRA\\Music\\ITML35-Child mortality\\DATASET\\ChildMOrtalytRate.csv')"
   ]
  },
  {
   "cell_type": "code",
   "execution_count": 4,
   "id": "f7c99f46",
   "metadata": {},
   "outputs": [
    {
     "data": {
      "text/html": [
       "<div>\n",
       "<style scoped>\n",
       "    .dataframe tbody tr th:only-of-type {\n",
       "        vertical-align: middle;\n",
       "    }\n",
       "\n",
       "    .dataframe tbody tr th {\n",
       "        vertical-align: top;\n",
       "    }\n",
       "\n",
       "    .dataframe thead th {\n",
       "        text-align: right;\n",
       "    }\n",
       "</style>\n",
       "<table border=\"1\" class=\"dataframe\">\n",
       "  <thead>\n",
       "    <tr style=\"text-align: right;\">\n",
       "      <th></th>\n",
       "      <th>Unnamed: 0</th>\n",
       "      <th>Country</th>\n",
       "      <th>Year</th>\n",
       "      <th>Gender</th>\n",
       "      <th>Child Mortality(1 to 4)</th>\n",
       "      <th>Total Population</th>\n",
       "      <th>Mortality Rate</th>\n",
       "    </tr>\n",
       "  </thead>\n",
       "  <tbody>\n",
       "    <tr>\n",
       "      <th>0</th>\n",
       "      <td>0</td>\n",
       "      <td>Afghanistan</td>\n",
       "      <td>1967</td>\n",
       "      <td>Female</td>\n",
       "      <td>26012.0</td>\n",
       "      <td>5080.813</td>\n",
       "      <td>5.119653</td>\n",
       "    </tr>\n",
       "    <tr>\n",
       "      <th>1</th>\n",
       "      <td>1</td>\n",
       "      <td>Afghanistan</td>\n",
       "      <td>1968</td>\n",
       "      <td>Female</td>\n",
       "      <td>26192.0</td>\n",
       "      <td>5202.606</td>\n",
       "      <td>5.034400</td>\n",
       "    </tr>\n",
       "    <tr>\n",
       "      <th>2</th>\n",
       "      <td>2</td>\n",
       "      <td>Afghanistan</td>\n",
       "      <td>1969</td>\n",
       "      <td>Female</td>\n",
       "      <td>26335.0</td>\n",
       "      <td>5333.936</td>\n",
       "      <td>4.937255</td>\n",
       "    </tr>\n",
       "    <tr>\n",
       "      <th>3</th>\n",
       "      <td>3</td>\n",
       "      <td>Afghanistan</td>\n",
       "      <td>1970</td>\n",
       "      <td>Female</td>\n",
       "      <td>26562.0</td>\n",
       "      <td>5476.630</td>\n",
       "      <td>4.850063</td>\n",
       "    </tr>\n",
       "    <tr>\n",
       "      <th>4</th>\n",
       "      <td>4</td>\n",
       "      <td>Afghanistan</td>\n",
       "      <td>1971</td>\n",
       "      <td>Female</td>\n",
       "      <td>26671.0</td>\n",
       "      <td>5630.099</td>\n",
       "      <td>4.737217</td>\n",
       "    </tr>\n",
       "    <tr>\n",
       "      <th>...</th>\n",
       "      <td>...</td>\n",
       "      <td>...</td>\n",
       "      <td>...</td>\n",
       "      <td>...</td>\n",
       "      <td>...</td>\n",
       "      <td>...</td>\n",
       "      <td>...</td>\n",
       "    </tr>\n",
       "    <tr>\n",
       "      <th>30935</th>\n",
       "      <td>30935</td>\n",
       "      <td>Zimbabwe</td>\n",
       "      <td>2015</td>\n",
       "      <td>Total</td>\n",
       "      <td>9031.0</td>\n",
       "      <td>13814.642</td>\n",
       "      <td>0.653727</td>\n",
       "    </tr>\n",
       "    <tr>\n",
       "      <th>30936</th>\n",
       "      <td>30936</td>\n",
       "      <td>Zimbabwe</td>\n",
       "      <td>2016</td>\n",
       "      <td>Total</td>\n",
       "      <td>8566.0</td>\n",
       "      <td>14030.338</td>\n",
       "      <td>0.610534</td>\n",
       "    </tr>\n",
       "    <tr>\n",
       "      <th>30937</th>\n",
       "      <td>30937</td>\n",
       "      <td>Zimbabwe</td>\n",
       "      <td>2017</td>\n",
       "      <td>Total</td>\n",
       "      <td>8318.0</td>\n",
       "      <td>14236.599</td>\n",
       "      <td>0.584269</td>\n",
       "    </tr>\n",
       "    <tr>\n",
       "      <th>30938</th>\n",
       "      <td>30938</td>\n",
       "      <td>Zimbabwe</td>\n",
       "      <td>2018</td>\n",
       "      <td>Total</td>\n",
       "      <td>7692.0</td>\n",
       "      <td>14438.812</td>\n",
       "      <td>0.532731</td>\n",
       "    </tr>\n",
       "    <tr>\n",
       "      <th>30939</th>\n",
       "      <td>30939</td>\n",
       "      <td>Zimbabwe</td>\n",
       "      <td>2019</td>\n",
       "      <td>Total</td>\n",
       "      <td>7397.0</td>\n",
       "      <td>14645.473</td>\n",
       "      <td>0.505071</td>\n",
       "    </tr>\n",
       "  </tbody>\n",
       "</table>\n",
       "<p>30940 rows × 7 columns</p>\n",
       "</div>"
      ],
      "text/plain": [
       "       Unnamed: 0      Country  Year  Gender  Child Mortality(1 to 4)  \\\n",
       "0               0  Afghanistan  1967  Female                  26012.0   \n",
       "1               1  Afghanistan  1968  Female                  26192.0   \n",
       "2               2  Afghanistan  1969  Female                  26335.0   \n",
       "3               3  Afghanistan  1970  Female                  26562.0   \n",
       "4               4  Afghanistan  1971  Female                  26671.0   \n",
       "...           ...          ...   ...     ...                      ...   \n",
       "30935       30935     Zimbabwe  2015   Total                   9031.0   \n",
       "30936       30936     Zimbabwe  2016   Total                   8566.0   \n",
       "30937       30937     Zimbabwe  2017   Total                   8318.0   \n",
       "30938       30938     Zimbabwe  2018   Total                   7692.0   \n",
       "30939       30939     Zimbabwe  2019   Total                   7397.0   \n",
       "\n",
       "       Total Population  Mortality Rate  \n",
       "0              5080.813        5.119653  \n",
       "1              5202.606        5.034400  \n",
       "2              5333.936        4.937255  \n",
       "3              5476.630        4.850063  \n",
       "4              5630.099        4.737217  \n",
       "...                 ...             ...  \n",
       "30935         13814.642        0.653727  \n",
       "30936         14030.338        0.610534  \n",
       "30937         14236.599        0.584269  \n",
       "30938         14438.812        0.532731  \n",
       "30939         14645.473        0.505071  \n",
       "\n",
       "[30940 rows x 7 columns]"
      ]
     },
     "execution_count": 4,
     "metadata": {},
     "output_type": "execute_result"
    }
   ],
   "source": [
    "df"
   ]
  },
  {
   "cell_type": "code",
   "execution_count": 5,
   "id": "63143839",
   "metadata": {},
   "outputs": [
    {
     "data": {
      "text/plain": [
       "Index(['Unnamed: 0', 'Country', 'Year', 'Gender', 'Child Mortality(1 to 4)',\n",
       "       'Total Population', 'Mortality Rate'],\n",
       "      dtype='object')"
      ]
     },
     "execution_count": 5,
     "metadata": {},
     "output_type": "execute_result"
    }
   ],
   "source": [
    "df.columns"
   ]
  },
  {
   "cell_type": "code",
   "execution_count": 6,
   "id": "756643db",
   "metadata": {},
   "outputs": [],
   "source": [
    "df.drop('Unnamed: 0', axis =1,inplace=True)"
   ]
  },
  {
   "cell_type": "code",
   "execution_count": 7,
   "id": "89c5778f",
   "metadata": {},
   "outputs": [
    {
     "data": {
      "text/html": [
       "<div>\n",
       "<style scoped>\n",
       "    .dataframe tbody tr th:only-of-type {\n",
       "        vertical-align: middle;\n",
       "    }\n",
       "\n",
       "    .dataframe tbody tr th {\n",
       "        vertical-align: top;\n",
       "    }\n",
       "\n",
       "    .dataframe thead th {\n",
       "        text-align: right;\n",
       "    }\n",
       "</style>\n",
       "<table border=\"1\" class=\"dataframe\">\n",
       "  <thead>\n",
       "    <tr style=\"text-align: right;\">\n",
       "      <th></th>\n",
       "      <th>Country</th>\n",
       "      <th>Year</th>\n",
       "      <th>Gender</th>\n",
       "      <th>Child Mortality(1 to 4)</th>\n",
       "      <th>Total Population</th>\n",
       "      <th>Mortality Rate</th>\n",
       "    </tr>\n",
       "  </thead>\n",
       "  <tbody>\n",
       "    <tr>\n",
       "      <th>0</th>\n",
       "      <td>Afghanistan</td>\n",
       "      <td>1967</td>\n",
       "      <td>Female</td>\n",
       "      <td>26012.0</td>\n",
       "      <td>5080.813</td>\n",
       "      <td>5.119653</td>\n",
       "    </tr>\n",
       "    <tr>\n",
       "      <th>1</th>\n",
       "      <td>Afghanistan</td>\n",
       "      <td>1968</td>\n",
       "      <td>Female</td>\n",
       "      <td>26192.0</td>\n",
       "      <td>5202.606</td>\n",
       "      <td>5.034400</td>\n",
       "    </tr>\n",
       "    <tr>\n",
       "      <th>2</th>\n",
       "      <td>Afghanistan</td>\n",
       "      <td>1969</td>\n",
       "      <td>Female</td>\n",
       "      <td>26335.0</td>\n",
       "      <td>5333.936</td>\n",
       "      <td>4.937255</td>\n",
       "    </tr>\n",
       "    <tr>\n",
       "      <th>3</th>\n",
       "      <td>Afghanistan</td>\n",
       "      <td>1970</td>\n",
       "      <td>Female</td>\n",
       "      <td>26562.0</td>\n",
       "      <td>5476.630</td>\n",
       "      <td>4.850063</td>\n",
       "    </tr>\n",
       "    <tr>\n",
       "      <th>4</th>\n",
       "      <td>Afghanistan</td>\n",
       "      <td>1971</td>\n",
       "      <td>Female</td>\n",
       "      <td>26671.0</td>\n",
       "      <td>5630.099</td>\n",
       "      <td>4.737217</td>\n",
       "    </tr>\n",
       "    <tr>\n",
       "      <th>...</th>\n",
       "      <td>...</td>\n",
       "      <td>...</td>\n",
       "      <td>...</td>\n",
       "      <td>...</td>\n",
       "      <td>...</td>\n",
       "      <td>...</td>\n",
       "    </tr>\n",
       "    <tr>\n",
       "      <th>30935</th>\n",
       "      <td>Zimbabwe</td>\n",
       "      <td>2015</td>\n",
       "      <td>Total</td>\n",
       "      <td>9031.0</td>\n",
       "      <td>13814.642</td>\n",
       "      <td>0.653727</td>\n",
       "    </tr>\n",
       "    <tr>\n",
       "      <th>30936</th>\n",
       "      <td>Zimbabwe</td>\n",
       "      <td>2016</td>\n",
       "      <td>Total</td>\n",
       "      <td>8566.0</td>\n",
       "      <td>14030.338</td>\n",
       "      <td>0.610534</td>\n",
       "    </tr>\n",
       "    <tr>\n",
       "      <th>30937</th>\n",
       "      <td>Zimbabwe</td>\n",
       "      <td>2017</td>\n",
       "      <td>Total</td>\n",
       "      <td>8318.0</td>\n",
       "      <td>14236.599</td>\n",
       "      <td>0.584269</td>\n",
       "    </tr>\n",
       "    <tr>\n",
       "      <th>30938</th>\n",
       "      <td>Zimbabwe</td>\n",
       "      <td>2018</td>\n",
       "      <td>Total</td>\n",
       "      <td>7692.0</td>\n",
       "      <td>14438.812</td>\n",
       "      <td>0.532731</td>\n",
       "    </tr>\n",
       "    <tr>\n",
       "      <th>30939</th>\n",
       "      <td>Zimbabwe</td>\n",
       "      <td>2019</td>\n",
       "      <td>Total</td>\n",
       "      <td>7397.0</td>\n",
       "      <td>14645.473</td>\n",
       "      <td>0.505071</td>\n",
       "    </tr>\n",
       "  </tbody>\n",
       "</table>\n",
       "<p>30940 rows × 6 columns</p>\n",
       "</div>"
      ],
      "text/plain": [
       "           Country  Year  Gender  Child Mortality(1 to 4)  Total Population  \\\n",
       "0      Afghanistan  1967  Female                  26012.0          5080.813   \n",
       "1      Afghanistan  1968  Female                  26192.0          5202.606   \n",
       "2      Afghanistan  1969  Female                  26335.0          5333.936   \n",
       "3      Afghanistan  1970  Female                  26562.0          5476.630   \n",
       "4      Afghanistan  1971  Female                  26671.0          5630.099   \n",
       "...            ...   ...     ...                      ...               ...   \n",
       "30935     Zimbabwe  2015   Total                   9031.0         13814.642   \n",
       "30936     Zimbabwe  2016   Total                   8566.0         14030.338   \n",
       "30937     Zimbabwe  2017   Total                   8318.0         14236.599   \n",
       "30938     Zimbabwe  2018   Total                   7692.0         14438.812   \n",
       "30939     Zimbabwe  2019   Total                   7397.0         14645.473   \n",
       "\n",
       "       Mortality Rate  \n",
       "0            5.119653  \n",
       "1            5.034400  \n",
       "2            4.937255  \n",
       "3            4.850063  \n",
       "4            4.737217  \n",
       "...               ...  \n",
       "30935        0.653727  \n",
       "30936        0.610534  \n",
       "30937        0.584269  \n",
       "30938        0.532731  \n",
       "30939        0.505071  \n",
       "\n",
       "[30940 rows x 6 columns]"
      ]
     },
     "execution_count": 7,
     "metadata": {},
     "output_type": "execute_result"
    }
   ],
   "source": [
    "df"
   ]
  },
  {
   "cell_type": "code",
   "execution_count": 8,
   "id": "1547faf8",
   "metadata": {},
   "outputs": [
    {
     "data": {
      "text/plain": [
       "Female    10362\n",
       "Male      10362\n",
       "Total     10216\n",
       "Name: Gender, dtype: int64"
      ]
     },
     "execution_count": 8,
     "metadata": {},
     "output_type": "execute_result"
    }
   ],
   "source": [
    "df['Gender'].value_counts()"
   ]
  },
  {
   "cell_type": "code",
   "execution_count": 9,
   "id": "4f14f9cd",
   "metadata": {},
   "outputs": [],
   "source": [
    "# changing value name\n",
    "df['Gender'].replace({'Total': 'Others'},inplace=True)"
   ]
  },
  {
   "cell_type": "code",
   "execution_count": 10,
   "id": "eb371ddd",
   "metadata": {},
   "outputs": [
    {
     "data": {
      "text/plain": [
       "Female    10362\n",
       "Male      10362\n",
       "Others    10216\n",
       "Name: Gender, dtype: int64"
      ]
     },
     "execution_count": 10,
     "metadata": {},
     "output_type": "execute_result"
    }
   ],
   "source": [
    "df['Gender'].value_counts()"
   ]
  },
  {
   "cell_type": "code",
   "execution_count": 11,
   "id": "12b406d7",
   "metadata": {},
   "outputs": [
    {
     "data": {
      "text/plain": [
       "Poland         195\n",
       "Switzerland    195\n",
       "Canada         195\n",
       "Seychelles     195\n",
       "Senegal        195\n",
       "              ... \n",
       "Timor-Leste     90\n",
       "San Marino      90\n",
       "Nauru           90\n",
       "Andorra         90\n",
       "Somalia         66\n",
       "Name: Country, Length: 194, dtype: int64"
      ]
     },
     "execution_count": 11,
     "metadata": {},
     "output_type": "execute_result"
    }
   ],
   "source": [
    "df['Country'].value_counts()"
   ]
  },
  {
   "cell_type": "code",
   "execution_count": 12,
   "id": "7f95857e",
   "metadata": {},
   "outputs": [
    {
     "name": "stdout",
     "output_type": "stream",
     "text": [
      "<class 'pandas.core.frame.DataFrame'>\n",
      "RangeIndex: 30940 entries, 0 to 30939\n",
      "Data columns (total 6 columns):\n",
      " #   Column                   Non-Null Count  Dtype  \n",
      "---  ------                   --------------  -----  \n",
      " 0   Country                  30940 non-null  object \n",
      " 1   Year                     30940 non-null  int64  \n",
      " 2   Gender                   30940 non-null  object \n",
      " 3   Child Mortality(1 to 4)  30940 non-null  float64\n",
      " 4   Total Population         30064 non-null  float64\n",
      " 5   Mortality Rate           30064 non-null  float64\n",
      "dtypes: float64(3), int64(1), object(2)\n",
      "memory usage: 1.4+ MB\n"
     ]
    }
   ],
   "source": [
    "df.info()"
   ]
  },
  {
   "cell_type": "code",
   "execution_count": 13,
   "id": "366130f1",
   "metadata": {},
   "outputs": [],
   "source": [
    "df = df.dropna()"
   ]
  },
  {
   "cell_type": "code",
   "execution_count": 14,
   "id": "fac11893",
   "metadata": {
    "scrolled": true
   },
   "outputs": [
    {
     "name": "stdout",
     "output_type": "stream",
     "text": [
      "<class 'pandas.core.frame.DataFrame'>\n",
      "Int64Index: 30064 entries, 0 to 30939\n",
      "Data columns (total 6 columns):\n",
      " #   Column                   Non-Null Count  Dtype  \n",
      "---  ------                   --------------  -----  \n",
      " 0   Country                  30064 non-null  object \n",
      " 1   Year                     30064 non-null  int64  \n",
      " 2   Gender                   30064 non-null  object \n",
      " 3   Child Mortality(1 to 4)  30064 non-null  float64\n",
      " 4   Total Population         30064 non-null  float64\n",
      " 5   Mortality Rate           30064 non-null  float64\n",
      "dtypes: float64(3), int64(1), object(2)\n",
      "memory usage: 1.6+ MB\n"
     ]
    }
   ],
   "source": [
    "df.info()"
   ]
  },
  {
   "cell_type": "code",
   "execution_count": 15,
   "id": "9d19ffe7",
   "metadata": {},
   "outputs": [
    {
     "data": {
      "text/plain": [
       "array(['Female', 'Male', 'Others'], dtype=object)"
      ]
     },
     "execution_count": 15,
     "metadata": {},
     "output_type": "execute_result"
    }
   ],
   "source": [
    "df['Gender'].unique()"
   ]
  },
  {
   "cell_type": "code",
   "execution_count": 16,
   "id": "246b47fb",
   "metadata": {},
   "outputs": [
    {
     "data": {
      "image/png": "[encoded data removed]",
      "text/plain": [
       "<Figure size 640x480 with 1 Axes>"
      ]
     },
     "metadata": {},
     "output_type": "display_data"
    }
   ],
   "source": [
    "plt.pie(df['Gender'].value_counts(),labels=df['Gender'].unique(),startangle = 90, shadow = True, autopct='%1.2f%%')\n",
    "plt.legend()\n",
    "plt.title('Genders Chart')\n",
    "plt.show()"
   ]
  },
  {
   "cell_type": "code",
   "execution_count": null,
   "id": "d7aed496",
   "metadata": {},
   "outputs": [],
   "source": []
  },
  {
   "cell_type": "code",
   "execution_count": 17,
   "id": "7cc7879c",
   "metadata": {},
   "outputs": [],
   "source": [
    "from sklearn.preprocessing import LabelEncoder"
   ]
  },
  {
   "cell_type": "code",
   "execution_count": 18,
   "id": "5b25bb31",
   "metadata": {},
   "outputs": [],
   "source": [
    "le = LabelEncoder()"
   ]
  },
  {
   "cell_type": "code",
   "execution_count": 19,
   "id": "fba3a9a2",
   "metadata": {},
   "outputs": [
    {
     "name": "stderr",
     "output_type": "stream",
     "text": [
      "C:\\Users\\PAVITHRA\\AppData\\Local\\Temp\\ipykernel_15320\\1679067845.py:1: SettingWithCopyWarning: \n",
      "A value is trying to be set on a copy of a slice from a DataFrame.\n",
      "Try using .loc[row_indexer,col_indexer] = value instead\n",
      "\n",
      "See the caveats in the documentation: https://pandas.pydata.org/pandas-docs/stable/user_guide/indexing.html#returning-a-view-versus-a-copy\n",
      "  df['Country']=le.fit_transform(df['Country'])\n",
      "C:\\Users\\PAVITHRA\\AppData\\Local\\Temp\\ipykernel_15320\\1679067845.py:2: SettingWithCopyWarning: \n",
      "A value is trying to be set on a copy of a slice from a DataFrame.\n",
      "Try using .loc[row_indexer,col_indexer] = value instead\n",
      "\n",
      "See the caveats in the documentation: https://pandas.pydata.org/pandas-docs/stable/user_guide/indexing.html#returning-a-view-versus-a-copy\n",
      "  df['Gender']=le.fit_transform(df['Gender'])\n"
     ]
    }
   ],
   "source": [
    "df['Country']=le.fit_transform(df['Country'])\n",
    "df['Gender']=le.fit_transform(df['Gender'])"
   ]
  },
  {
   "cell_type": "code",
   "execution_count": 20,
   "id": "1c25774b",
   "metadata": {},
   "outputs": [
    {
     "data": {
      "text/html": [
       "<div>\n",
       "<style scoped>\n",
       "    .dataframe tbody tr th:only-of-type {\n",
       "        vertical-align: middle;\n",
       "    }\n",
       "\n",
       "    .dataframe tbody tr th {\n",
       "        vertical-align: top;\n",
       "    }\n",
       "\n",
       "    .dataframe thead th {\n",
       "        text-align: right;\n",
       "    }\n",
       "</style>\n",
       "<table border=\"1\" class=\"dataframe\">\n",
       "  <thead>\n",
       "    <tr style=\"text-align: right;\">\n",
       "      <th></th>\n",
       "      <th>Country</th>\n",
       "      <th>Year</th>\n",
       "      <th>Gender</th>\n",
       "      <th>Child Mortality(1 to 4)</th>\n",
       "      <th>Total Population</th>\n",
       "      <th>Mortality Rate</th>\n",
       "    </tr>\n",
       "  </thead>\n",
       "  <tbody>\n",
       "    <tr>\n",
       "      <th>0</th>\n",
       "      <td>0</td>\n",
       "      <td>1967</td>\n",
       "      <td>0</td>\n",
       "      <td>26012.0</td>\n",
       "      <td>5080.813</td>\n",
       "      <td>5.119653</td>\n",
       "    </tr>\n",
       "    <tr>\n",
       "      <th>1</th>\n",
       "      <td>0</td>\n",
       "      <td>1968</td>\n",
       "      <td>0</td>\n",
       "      <td>26192.0</td>\n",
       "      <td>5202.606</td>\n",
       "      <td>5.034400</td>\n",
       "    </tr>\n",
       "    <tr>\n",
       "      <th>2</th>\n",
       "      <td>0</td>\n",
       "      <td>1969</td>\n",
       "      <td>0</td>\n",
       "      <td>26335.0</td>\n",
       "      <td>5333.936</td>\n",
       "      <td>4.937255</td>\n",
       "    </tr>\n",
       "    <tr>\n",
       "      <th>3</th>\n",
       "      <td>0</td>\n",
       "      <td>1970</td>\n",
       "      <td>0</td>\n",
       "      <td>26562.0</td>\n",
       "      <td>5476.630</td>\n",
       "      <td>4.850063</td>\n",
       "    </tr>\n",
       "    <tr>\n",
       "      <th>4</th>\n",
       "      <td>0</td>\n",
       "      <td>1971</td>\n",
       "      <td>0</td>\n",
       "      <td>26671.0</td>\n",
       "      <td>5630.099</td>\n",
       "      <td>4.737217</td>\n",
       "    </tr>\n",
       "    <tr>\n",
       "      <th>...</th>\n",
       "      <td>...</td>\n",
       "      <td>...</td>\n",
       "      <td>...</td>\n",
       "      <td>...</td>\n",
       "      <td>...</td>\n",
       "      <td>...</td>\n",
       "    </tr>\n",
       "    <tr>\n",
       "      <th>30935</th>\n",
       "      <td>193</td>\n",
       "      <td>2015</td>\n",
       "      <td>2</td>\n",
       "      <td>9031.0</td>\n",
       "      <td>13814.642</td>\n",
       "      <td>0.653727</td>\n",
       "    </tr>\n",
       "    <tr>\n",
       "      <th>30936</th>\n",
       "      <td>193</td>\n",
       "      <td>2016</td>\n",
       "      <td>2</td>\n",
       "      <td>8566.0</td>\n",
       "      <td>14030.338</td>\n",
       "      <td>0.610534</td>\n",
       "    </tr>\n",
       "    <tr>\n",
       "      <th>30937</th>\n",
       "      <td>193</td>\n",
       "      <td>2017</td>\n",
       "      <td>2</td>\n",
       "      <td>8318.0</td>\n",
       "      <td>14236.599</td>\n",
       "      <td>0.584269</td>\n",
       "    </tr>\n",
       "    <tr>\n",
       "      <th>30938</th>\n",
       "      <td>193</td>\n",
       "      <td>2018</td>\n",
       "      <td>2</td>\n",
       "      <td>7692.0</td>\n",
       "      <td>14438.812</td>\n",
       "      <td>0.532731</td>\n",
       "    </tr>\n",
       "    <tr>\n",
       "      <th>30939</th>\n",
       "      <td>193</td>\n",
       "      <td>2019</td>\n",
       "      <td>2</td>\n",
       "      <td>7397.0</td>\n",
       "      <td>14645.473</td>\n",
       "      <td>0.505071</td>\n",
       "    </tr>\n",
       "  </tbody>\n",
       "</table>\n",
       "<p>30064 rows × 6 columns</p>\n",
       "</div>"
      ],
      "text/plain": [
       "       Country  Year  Gender  Child Mortality(1 to 4)  Total Population  \\\n",
       "0            0  1967       0                  26012.0          5080.813   \n",
       "1            0  1968       0                  26192.0          5202.606   \n",
       "2            0  1969       0                  26335.0          5333.936   \n",
       "3            0  1970       0                  26562.0          5476.630   \n",
       "4            0  1971       0                  26671.0          5630.099   \n",
       "...        ...   ...     ...                      ...               ...   \n",
       "30935      193  2015       2                   9031.0         13814.642   \n",
       "30936      193  2016       2                   8566.0         14030.338   \n",
       "30937      193  2017       2                   8318.0         14236.599   \n",
       "30938      193  2018       2                   7692.0         14438.812   \n",
       "30939      193  2019       2                   7397.0         14645.473   \n",
       "\n",
       "       Mortality Rate  \n",
       "0            5.119653  \n",
       "1            5.034400  \n",
       "2            4.937255  \n",
       "3            4.850063  \n",
       "4            4.737217  \n",
       "...               ...  \n",
       "30935        0.653727  \n",
       "30936        0.610534  \n",
       "30937        0.584269  \n",
       "30938        0.532731  \n",
       "30939        0.505071  \n",
       "\n",
       "[30064 rows x 6 columns]"
      ]
     },
     "execution_count": 20,
     "metadata": {},
     "output_type": "execute_result"
    }
   ],
   "source": [
    "df"
   ]
  },
  {
   "cell_type": "code",
   "execution_count": 21,
   "id": "71bf08ae",
   "metadata": {},
   "outputs": [
    {
     "name": "stderr",
     "output_type": "stream",
     "text": [
      "C:\\Users\\PAVITHRA\\anaconda3\\lib\\site-packages\\seaborn\\distributions.py:2619: FutureWarning: `distplot` is a deprecated function and will be removed in a future version. Please adapt your code to use either `displot` (a figure-level function with similar flexibility) or `histplot` (an axes-level function for histograms).\n",
      "  warnings.warn(msg, FutureWarning)\n"
     ]
    },
    {
     "data": {
      "text/plain": [
       "<AxesSubplot:xlabel='Mortality Rate', ylabel='Density'>"
      ]
     },
     "execution_count": 21,
     "metadata": {},
     "output_type": "execute_result"
    },
    {
     "data": {
      "image/png": "[encoded data removed]",
      "text/plain": [
       "<Figure size 640x480 with 1 Axes>"
      ]
     },
     "metadata": {},
     "output_type": "display_data"
    }
   ],
   "source": [
    "import seaborn as sns\n",
    "sns.distplot(df['Mortality Rate'])"
   ]
  },
  {
   "cell_type": "code",
   "execution_count": 22,
   "id": "fd00ddd8",
   "metadata": {},
   "outputs": [],
   "source": [
    "X = df.drop('Mortality Rate', axis =1)"
   ]
  },
  {
   "cell_type": "code",
   "execution_count": 23,
   "id": "b9034351",
   "metadata": {},
   "outputs": [
    {
     "data": {
      "text/html": [
       "<div>\n",
       "<style scoped>\n",
       "    .dataframe tbody tr th:only-of-type {\n",
       "        vertical-align: middle;\n",
       "    }\n",
       "\n",
       "    .dataframe tbody tr th {\n",
       "        vertical-align: top;\n",
       "    }\n",
       "\n",
       "    .dataframe thead th {\n",
       "        text-align: right;\n",
       "    }\n",
       "</style>\n",
       "<table border=\"1\" class=\"dataframe\">\n",
       "  <thead>\n",
       "    <tr style=\"text-align: right;\">\n",
       "      <th></th>\n",
       "      <th>Country</th>\n",
       "      <th>Year</th>\n",
       "      <th>Gender</th>\n",
       "      <th>Child Mortality(1 to 4)</th>\n",
       "      <th>Total Population</th>\n",
       "    </tr>\n",
       "  </thead>\n",
       "  <tbody>\n",
       "    <tr>\n",
       "      <th>0</th>\n",
       "      <td>0</td>\n",
       "      <td>1967</td>\n",
       "      <td>0</td>\n",
       "      <td>26012.0</td>\n",
       "      <td>5080.813</td>\n",
       "    </tr>\n",
       "    <tr>\n",
       "      <th>1</th>\n",
       "      <td>0</td>\n",
       "      <td>1968</td>\n",
       "      <td>0</td>\n",
       "      <td>26192.0</td>\n",
       "      <td>5202.606</td>\n",
       "    </tr>\n",
       "    <tr>\n",
       "      <th>2</th>\n",
       "      <td>0</td>\n",
       "      <td>1969</td>\n",
       "      <td>0</td>\n",
       "      <td>26335.0</td>\n",
       "      <td>5333.936</td>\n",
       "    </tr>\n",
       "    <tr>\n",
       "      <th>3</th>\n",
       "      <td>0</td>\n",
       "      <td>1970</td>\n",
       "      <td>0</td>\n",
       "      <td>26562.0</td>\n",
       "      <td>5476.630</td>\n",
       "    </tr>\n",
       "    <tr>\n",
       "      <th>4</th>\n",
       "      <td>0</td>\n",
       "      <td>1971</td>\n",
       "      <td>0</td>\n",
       "      <td>26671.0</td>\n",
       "      <td>5630.099</td>\n",
       "    </tr>\n",
       "    <tr>\n",
       "      <th>...</th>\n",
       "      <td>...</td>\n",
       "      <td>...</td>\n",
       "      <td>...</td>\n",
       "      <td>...</td>\n",
       "      <td>...</td>\n",
       "    </tr>\n",
       "    <tr>\n",
       "      <th>30935</th>\n",
       "      <td>193</td>\n",
       "      <td>2015</td>\n",
       "      <td>2</td>\n",
       "      <td>9031.0</td>\n",
       "      <td>13814.642</td>\n",
       "    </tr>\n",
       "    <tr>\n",
       "      <th>30936</th>\n",
       "      <td>193</td>\n",
       "      <td>2016</td>\n",
       "      <td>2</td>\n",
       "      <td>8566.0</td>\n",
       "      <td>14030.338</td>\n",
       "    </tr>\n",
       "    <tr>\n",
       "      <th>30937</th>\n",
       "      <td>193</td>\n",
       "      <td>2017</td>\n",
       "      <td>2</td>\n",
       "      <td>8318.0</td>\n",
       "      <td>14236.599</td>\n",
       "    </tr>\n",
       "    <tr>\n",
       "      <th>30938</th>\n",
       "      <td>193</td>\n",
       "      <td>2018</td>\n",
       "      <td>2</td>\n",
       "      <td>7692.0</td>\n",
       "      <td>14438.812</td>\n",
       "    </tr>\n",
       "    <tr>\n",
       "      <th>30939</th>\n",
       "      <td>193</td>\n",
       "      <td>2019</td>\n",
       "      <td>2</td>\n",
       "      <td>7397.0</td>\n",
       "      <td>14645.473</td>\n",
       "    </tr>\n",
       "  </tbody>\n",
       "</table>\n",
       "<p>30064 rows × 5 columns</p>\n",
       "</div>"
      ],
      "text/plain": [
       "       Country  Year  Gender  Child Mortality(1 to 4)  Total Population\n",
       "0            0  1967       0                  26012.0          5080.813\n",
       "1            0  1968       0                  26192.0          5202.606\n",
       "2            0  1969       0                  26335.0          5333.936\n",
       "3            0  1970       0                  26562.0          5476.630\n",
       "4            0  1971       0                  26671.0          5630.099\n",
       "...        ...   ...     ...                      ...               ...\n",
       "30935      193  2015       2                   9031.0         13814.642\n",
       "30936      193  2016       2                   8566.0         14030.338\n",
       "30937      193  2017       2                   8318.0         14236.599\n",
       "30938      193  2018       2                   7692.0         14438.812\n",
       "30939      193  2019       2                   7397.0         14645.473\n",
       "\n",
       "[30064 rows x 5 columns]"
      ]
     },
     "execution_count": 23,
     "metadata": {},
     "output_type": "execute_result"
    }
   ],
   "source": [
    "X"
   ]
  },
  {
   "cell_type": "code",
   "execution_count": 24,
   "id": "51bc0c8c",
   "metadata": {},
   "outputs": [],
   "source": [
    "y = df['Mortality Rate']"
   ]
  },
  {
   "cell_type": "code",
   "execution_count": 25,
   "id": "8365265f",
   "metadata": {},
   "outputs": [
    {
     "data": {
      "text/plain": [
       "0        5.119653\n",
       "1        5.034400\n",
       "2        4.937255\n",
       "3        4.850063\n",
       "4        4.737217\n",
       "           ...   \n",
       "30935    0.653727\n",
       "30936    0.610534\n",
       "30937    0.584269\n",
       "30938    0.532731\n",
       "30939    0.505071\n",
       "Name: Mortality Rate, Length: 30064, dtype: float64"
      ]
     },
     "execution_count": 25,
     "metadata": {},
     "output_type": "execute_result"
    }
   ],
   "source": [
    "y"
   ]
  },
  {
   "cell_type": "code",
   "execution_count": 26,
   "id": "2671a637",
   "metadata": {},
   "outputs": [],
   "source": [
    "from sklearn.model_selection import train_test_split\n",
    "X_train,X_test,y_train,y_test = train_test_split(X,y,test_size=0.30,random_state=40)"
   ]
  },
  {
   "cell_type": "code",
   "execution_count": 27,
   "id": "cba5cae0",
   "metadata": {},
   "outputs": [
    {
     "data": {
      "text/html": [
       "<div>\n",
       "<style scoped>\n",
       "    .dataframe tbody tr th:only-of-type {\n",
       "        vertical-align: middle;\n",
       "    }\n",
       "\n",
       "    .dataframe tbody tr th {\n",
       "        vertical-align: top;\n",
       "    }\n",
       "\n",
       "    .dataframe thead th {\n",
       "        text-align: right;\n",
       "    }\n",
       "</style>\n",
       "<table border=\"1\" class=\"dataframe\">\n",
       "  <thead>\n",
       "    <tr style=\"text-align: right;\">\n",
       "      <th></th>\n",
       "      <th>Country</th>\n",
       "      <th>Year</th>\n",
       "      <th>Gender</th>\n",
       "      <th>Child Mortality(1 to 4)</th>\n",
       "      <th>Total Population</th>\n",
       "    </tr>\n",
       "  </thead>\n",
       "  <tbody>\n",
       "    <tr>\n",
       "      <th>15188</th>\n",
       "      <td>93</td>\n",
       "      <td>1990</td>\n",
       "      <td>1</td>\n",
       "      <td>4072.0</td>\n",
       "      <td>2129.857</td>\n",
       "    </tr>\n",
       "    <tr>\n",
       "      <th>17322</th>\n",
       "      <td>106</td>\n",
       "      <td>1990</td>\n",
       "      <td>2</td>\n",
       "      <td>7.0</td>\n",
       "      <td>362.017</td>\n",
       "    </tr>\n",
       "    <tr>\n",
       "      <th>17728</th>\n",
       "      <td>109</td>\n",
       "      <td>1968</td>\n",
       "      <td>0</td>\n",
       "      <td>420.0</td>\n",
       "      <td>398.757</td>\n",
       "    </tr>\n",
       "    <tr>\n",
       "      <th>23539</th>\n",
       "      <td>146</td>\n",
       "      <td>2013</td>\n",
       "      <td>0</td>\n",
       "      <td>2.0</td>\n",
       "      <td>90.095</td>\n",
       "    </tr>\n",
       "    <tr>\n",
       "      <th>339</th>\n",
       "      <td>2</td>\n",
       "      <td>1967</td>\n",
       "      <td>1</td>\n",
       "      <td>29522.0</td>\n",
       "      <td>6661.827</td>\n",
       "    </tr>\n",
       "    <tr>\n",
       "      <th>...</th>\n",
       "      <td>...</td>\n",
       "      <td>...</td>\n",
       "      <td>...</td>\n",
       "      <td>...</td>\n",
       "      <td>...</td>\n",
       "    </tr>\n",
       "    <tr>\n",
       "      <th>17074</th>\n",
       "      <td>105</td>\n",
       "      <td>1989</td>\n",
       "      <td>1</td>\n",
       "      <td>22023.0</td>\n",
       "      <td>4099.150</td>\n",
       "    </tr>\n",
       "    <tr>\n",
       "      <th>25681</th>\n",
       "      <td>160</td>\n",
       "      <td>1988</td>\n",
       "      <td>1</td>\n",
       "      <td>11592.0</td>\n",
       "      <td>3525.266</td>\n",
       "    </tr>\n",
       "    <tr>\n",
       "      <th>8899</th>\n",
       "      <td>56</td>\n",
       "      <td>2008</td>\n",
       "      <td>1</td>\n",
       "      <td>971.0</td>\n",
       "      <td>1529.322</td>\n",
       "    </tr>\n",
       "    <tr>\n",
       "      <th>18798</th>\n",
       "      <td>116</td>\n",
       "      <td>1990</td>\n",
       "      <td>2</td>\n",
       "      <td>46789.0</td>\n",
       "      <td>12987.292</td>\n",
       "    </tr>\n",
       "    <tr>\n",
       "      <th>17331</th>\n",
       "      <td>106</td>\n",
       "      <td>1999</td>\n",
       "      <td>2</td>\n",
       "      <td>5.0</td>\n",
       "      <td>390.626</td>\n",
       "    </tr>\n",
       "  </tbody>\n",
       "</table>\n",
       "<p>9020 rows × 5 columns</p>\n",
       "</div>"
      ],
      "text/plain": [
       "       Country  Year  Gender  Child Mortality(1 to 4)  Total Population\n",
       "15188       93  1990       1                   4072.0          2129.857\n",
       "17322      106  1990       2                      7.0           362.017\n",
       "17728      109  1968       0                    420.0           398.757\n",
       "23539      146  2013       0                      2.0            90.095\n",
       "339          2  1967       1                  29522.0          6661.827\n",
       "...        ...   ...     ...                      ...               ...\n",
       "17074      105  1989       1                  22023.0          4099.150\n",
       "25681      160  1988       1                  11592.0          3525.266\n",
       "8899        56  2008       1                    971.0          1529.322\n",
       "18798      116  1990       2                  46789.0         12987.292\n",
       "17331      106  1999       2                      5.0           390.626\n",
       "\n",
       "[9020 rows x 5 columns]"
      ]
     },
     "execution_count": 27,
     "metadata": {},
     "output_type": "execute_result"
    }
   ],
   "source": [
    "X_test"
   ]
  },
  {
   "cell_type": "code",
   "execution_count": 28,
   "id": "58b6cbdf",
   "metadata": {},
   "outputs": [
    {
     "data": {
      "text/plain": [
       "15188    1.911865\n",
       "17322    0.019336\n",
       "17728    1.053273\n",
       "23539    0.022199\n",
       "339      4.431517\n",
       "           ...   \n",
       "17074    5.372577\n",
       "25681    3.288263\n",
       "8899     0.634922\n",
       "18798    3.602676\n",
       "17331    0.012800\n",
       "Name: Mortality Rate, Length: 9020, dtype: float64"
      ]
     },
     "execution_count": 28,
     "metadata": {},
     "output_type": "execute_result"
    }
   ],
   "source": [
    "y_test"
   ]
  },
  {
   "cell_type": "code",
   "execution_count": 29,
   "id": "104b43a5",
   "metadata": {},
   "outputs": [
    {
     "data": {
      "text/plain": [
       "1381     0.039121\n",
       "1288     0.007814\n",
       "9365     3.946414\n",
       "17790    0.968997\n",
       "29732    0.073802\n",
       "           ...   \n",
       "24788    1.173230\n",
       "28516    3.637423\n",
       "14799    0.403736\n",
       "14853    0.324126\n",
       "11888    0.402256\n",
       "Name: Mortality Rate, Length: 21044, dtype: float64"
      ]
     },
     "execution_count": 29,
     "metadata": {},
     "output_type": "execute_result"
    }
   ],
   "source": [
    "y_train"
   ]
  },
  {
   "cell_type": "code",
   "execution_count": 30,
   "id": "1bdea392",
   "metadata": {},
   "outputs": [],
   "source": [
    "X_test.to_csv('test.csv',index=False)"
   ]
  },
  {
   "cell_type": "code",
   "execution_count": 31,
   "id": "920e7c8d",
   "metadata": {},
   "outputs": [
    {
     "name": "stderr",
     "output_type": "stream",
     "text": [
      "C:\\Users\\PAVITHRA\\anaconda3\\lib\\site-packages\\sklearn\\ensemble\\_forest.py:396: FutureWarning: Criterion 'mse' was deprecated in v1.0 and will be removed in version 1.2. Use `criterion='squared_error'` which is equivalent.\n",
      "  warn(\n"
     ]
    }
   ],
   "source": [
    "#random forest regressor\n",
    "from sklearn.ensemble import RandomForestRegressor\n",
    "from sklearn.metrics import mean_squared_error\n",
    "regressor=RandomForestRegressor(criterion='mse',n_estimators=180)\n",
    "\n",
    "#fit the model\n",
    "regressor.fit(X_train,y_train)\n",
    "\n",
    "\n",
    "#create the predict model\n",
    "y_pred1=regressor.predict(X_test)\n"
   ]
  },
  {
   "cell_type": "code",
   "execution_count": 32,
   "id": "efc53b1b",
   "metadata": {},
   "outputs": [
    {
     "name": "stdout",
     "output_type": "stream",
     "text": [
      "R^2: 0.9992838265251851\n",
      "Adjusted R^2: 0.9992834292689865\n",
      "MAE: 0.014663502843766125\n",
      "MSE: 0.0015818279965601628\n",
      "RMSE: 0.03977220130392788\n"
     ]
    }
   ],
   "source": [
    "from sklearn import metrics\n",
    "\n",
    "# Model Evaluation\n",
    "print('R^2:', metrics.r2_score(y_test, y_pred1))\n",
    "print('Adjusted R^2:',1 - (1-metrics.r2_score(y_test, y_pred1))*(len(y_test)-1)/(len(y_test)-X_train.shape[1]-1))\n",
    "print('MAE:',metrics.mean_absolute_error(y_test, y_pred1))\n",
    "print('MSE:',metrics.mean_squared_error(y_test, y_pred1))\n",
    "print('RMSE:',np.sqrt(metrics.mean_squared_error(y_test, y_pred1)))"
   ]
  },
  {
   "cell_type": "code",
   "execution_count": 33,
   "id": "27dc4f01",
   "metadata": {},
   "outputs": [
    {
     "data": {
      "text/html": [
       "<div>\n",
       "<style scoped>\n",
       "    .dataframe tbody tr th:only-of-type {\n",
       "        vertical-align: middle;\n",
       "    }\n",
       "\n",
       "    .dataframe tbody tr th {\n",
       "        vertical-align: top;\n",
       "    }\n",
       "\n",
       "    .dataframe thead th {\n",
       "        text-align: right;\n",
       "    }\n",
       "</style>\n",
       "<table border=\"1\" class=\"dataframe\">\n",
       "  <thead>\n",
       "    <tr style=\"text-align: right;\">\n",
       "      <th></th>\n",
       "      <th>Real Values</th>\n",
       "      <th>Predicted Values</th>\n",
       "    </tr>\n",
       "  </thead>\n",
       "  <tbody>\n",
       "    <tr>\n",
       "      <th>15188</th>\n",
       "      <td>1.911865</td>\n",
       "      <td>1.918583</td>\n",
       "    </tr>\n",
       "    <tr>\n",
       "      <th>17322</th>\n",
       "      <td>0.019336</td>\n",
       "      <td>0.020116</td>\n",
       "    </tr>\n",
       "    <tr>\n",
       "      <th>17728</th>\n",
       "      <td>1.053273</td>\n",
       "      <td>1.056507</td>\n",
       "    </tr>\n",
       "    <tr>\n",
       "      <th>23539</th>\n",
       "      <td>0.022199</td>\n",
       "      <td>0.022207</td>\n",
       "    </tr>\n",
       "    <tr>\n",
       "      <th>339</th>\n",
       "      <td>4.431517</td>\n",
       "      <td>4.416591</td>\n",
       "    </tr>\n",
       "    <tr>\n",
       "      <th>14603</th>\n",
       "      <td>1.523055</td>\n",
       "      <td>1.503722</td>\n",
       "    </tr>\n",
       "    <tr>\n",
       "      <th>21945</th>\n",
       "      <td>0.152330</td>\n",
       "      <td>0.156847</td>\n",
       "    </tr>\n",
       "    <tr>\n",
       "      <th>20935</th>\n",
       "      <td>2.914837</td>\n",
       "      <td>2.922250</td>\n",
       "    </tr>\n",
       "    <tr>\n",
       "      <th>18792</th>\n",
       "      <td>3.768008</td>\n",
       "      <td>3.760276</td>\n",
       "    </tr>\n",
       "    <tr>\n",
       "      <th>1740</th>\n",
       "      <td>0.452978</td>\n",
       "      <td>0.444026</td>\n",
       "    </tr>\n",
       "  </tbody>\n",
       "</table>\n",
       "</div>"
      ],
      "text/plain": [
       "       Real Values  Predicted Values\n",
       "15188     1.911865          1.918583\n",
       "17322     0.019336          0.020116\n",
       "17728     1.053273          1.056507\n",
       "23539     0.022199          0.022207\n",
       "339       4.431517          4.416591\n",
       "14603     1.523055          1.503722\n",
       "21945     0.152330          0.156847\n",
       "20935     2.914837          2.922250\n",
       "18792     3.768008          3.760276\n",
       "1740      0.452978          0.444026"
      ]
     },
     "execution_count": 33,
     "metadata": {},
     "output_type": "execute_result"
    }
   ],
   "source": [
    "import numpy as np\n",
    "rf_compare = pd.DataFrame({'Real Values':y_test, 'Predicted Values': y_pred1})\n",
    "rf_compare.head(10)"
   ]
  },
  {
   "cell_type": "code",
   "execution_count": 35,
   "id": "988912b2",
   "metadata": {},
   "outputs": [],
   "source": [
    "import xgboost as xgb\n",
    "from xgboost import XGBRegressor\n",
    "xgb = XGBRegressor(n_estimators=180,max_depth=100)\n",
    "\n",
    "\n",
    "#fit the model\n",
    "xgb.fit(X_train,y_train)\n",
    "\n",
    "\n",
    "\n",
    "#create the predict model\n",
    "y_pred2=xgb.predict(X_test)\n"
   ]
  },
  {
   "cell_type": "code",
   "execution_count": 36,
   "id": "349d623c",
   "metadata": {},
   "outputs": [
    {
     "name": "stdout",
     "output_type": "stream",
     "text": [
      "R^2: 0.9984652175753922\n",
      "Adjusted R^2: 0.9984643662427848\n",
      "MAE: 0.02359065297237996\n",
      "MSE: 0.0033899074641105436\n",
      "RMSE: 0.058222911848434235\n"
     ]
    }
   ],
   "source": [
    "\n",
    "# Model Evaluation\n",
    "print('R^2:', metrics.r2_score(y_test, y_pred2))\n",
    "print('Adjusted R^2:',1 - (1-metrics.r2_score(y_test, y_pred2))*(len(y_test)-1)/(len(y_test)-X_train.shape[1]-1))\n",
    "print('MAE:',metrics.mean_absolute_error(y_test, y_pred2))\n",
    "print('MSE:',metrics.mean_squared_error(y_test, y_pred2))\n",
    "print('RMSE:',np.sqrt(metrics.mean_squared_error(y_test, y_pred2)))"
   ]
  },
  {
   "cell_type": "code",
   "execution_count": 37,
   "id": "fbb708ca",
   "metadata": {},
   "outputs": [
    {
     "data": {
      "text/html": [
       "<div>\n",
       "<style scoped>\n",
       "    .dataframe tbody tr th:only-of-type {\n",
       "        vertical-align: middle;\n",
       "    }\n",
       "\n",
       "    .dataframe tbody tr th {\n",
       "        vertical-align: top;\n",
       "    }\n",
       "\n",
       "    .dataframe thead th {\n",
       "        text-align: right;\n",
       "    }\n",
       "</style>\n",
       "<table border=\"1\" class=\"dataframe\">\n",
       "  <thead>\n",
       "    <tr style=\"text-align: right;\">\n",
       "      <th></th>\n",
       "      <th>Real Values</th>\n",
       "      <th>Predicted Values</th>\n",
       "    </tr>\n",
       "  </thead>\n",
       "  <tbody>\n",
       "    <tr>\n",
       "      <th>15188</th>\n",
       "      <td>1.911865</td>\n",
       "      <td>1.927048</td>\n",
       "    </tr>\n",
       "    <tr>\n",
       "      <th>17322</th>\n",
       "      <td>0.019336</td>\n",
       "      <td>0.020476</td>\n",
       "    </tr>\n",
       "    <tr>\n",
       "      <th>17728</th>\n",
       "      <td>1.053273</td>\n",
       "      <td>1.040518</td>\n",
       "    </tr>\n",
       "    <tr>\n",
       "      <th>23539</th>\n",
       "      <td>0.022199</td>\n",
       "      <td>0.022738</td>\n",
       "    </tr>\n",
       "    <tr>\n",
       "      <th>339</th>\n",
       "      <td>4.431517</td>\n",
       "      <td>4.464691</td>\n",
       "    </tr>\n",
       "    <tr>\n",
       "      <th>14603</th>\n",
       "      <td>1.523055</td>\n",
       "      <td>1.461040</td>\n",
       "    </tr>\n",
       "    <tr>\n",
       "      <th>21945</th>\n",
       "      <td>0.152330</td>\n",
       "      <td>0.153861</td>\n",
       "    </tr>\n",
       "    <tr>\n",
       "      <th>20935</th>\n",
       "      <td>2.914837</td>\n",
       "      <td>2.711911</td>\n",
       "    </tr>\n",
       "    <tr>\n",
       "      <th>18792</th>\n",
       "      <td>3.768008</td>\n",
       "      <td>3.781269</td>\n",
       "    </tr>\n",
       "    <tr>\n",
       "      <th>1740</th>\n",
       "      <td>0.452978</td>\n",
       "      <td>0.397881</td>\n",
       "    </tr>\n",
       "  </tbody>\n",
       "</table>\n",
       "</div>"
      ],
      "text/plain": [
       "       Real Values  Predicted Values\n",
       "15188     1.911865          1.927048\n",
       "17322     0.019336          0.020476\n",
       "17728     1.053273          1.040518\n",
       "23539     0.022199          0.022738\n",
       "339       4.431517          4.464691\n",
       "14603     1.523055          1.461040\n",
       "21945     0.152330          0.153861\n",
       "20935     2.914837          2.711911\n",
       "18792     3.768008          3.781269\n",
       "1740      0.452978          0.397881"
      ]
     },
     "execution_count": 37,
     "metadata": {},
     "output_type": "execute_result"
    }
   ],
   "source": [
    "xg_compare = pd.DataFrame({'Real Values':y_test, 'Predicted Values': y_pred2})\n",
    "xg_compare.head(10)"
   ]
  },
  {
   "cell_type": "code",
   "execution_count": null,
   "id": "85e275cc",
   "metadata": {},
   "outputs": [],
   "source": []
  }
 ],
 "metadata": {
  "kernelspec": {
   "display_name": "Python 3 (ipykernel)",
   "language": "python",
   "name": "python3"
  },
  "language_info": {
   "codemirror_mode": {
    "name": "ipython",
    "version": 3
   },
   "file_extension": ".py",
   "mimetype": "text/x-python",
   "name": "python",
   "nbconvert_exporter": "python",
   "pygments_lexer": "ipython3",
   "version": "3.9.13"
  }
 },
 "nbformat": 4,
 "nbformat_minor": 5
}
